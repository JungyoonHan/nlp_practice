{
 "cells": [
  {
   "cell_type": "markdown",
   "metadata": {},
   "source": [
    "# Chapter 3"
   ]
  },
  {
   "cell_type": "markdown",
   "metadata": {},
   "source": [
    "## 1. 단어 표현 (Word Representation)"
   ]
  },
  {
   "cell_type": "markdown",
   "metadata": {},
   "source": [
    ": 텍스트를 언어적인 특성을 반영해서 단어를 수치화하는 방법 ==> 단어를 주로 **벡터**로 표기"
   ]
  },
  {
   "cell_type": "markdown",
   "metadata": {},
   "source": [
    "*one-hot encoding : 각 값은 0 또는 1 => 알 수 있는 벡터 값 중 하나만 1이 되고 나머지는 0 => 문제점이 많다*"
   ]
  },
  {
   "cell_type": "markdown",
   "metadata": {},
   "source": [
    "#### 분포가설(Distributed Hypothesis) : 같은 문맥의 단어, 비슷한 위치에 나오는 단어는 비슷한 의미를 가진다."
   ]
  },
  {
   "cell_type": "markdown",
   "metadata": {},
   "source": [
    "- **카운트 기반(count-base)** : 특정 문맥 안에서 단어들이 동시에 등장하는 횟수를 셈\n",
    "    - 특이값 분해(Singular Value Decomposition, SVD)\n",
    "    - 잠재의미분석(Latent Semantic Analysis, LSA)\n",
    "    - Hyperspace Analogue to Language(HAL)\n",
    "    - Helinger PCA(Principal Component Analysis)  \n",
    "*=> 모두 동시에 출현행렬(Co-occurence Matrix)를 만들고, 변형하는 방식, 빠르다는 장점이 있다.*<br><br>\n",
    "- **예측(Predictive) 방법** : 신경망 구조 혹은 어떠한 모델을 통해 문맥 안의 단어들을 예측하면서 단어를 벡터로 만드는 방식\n",
    "    - Word2vec : 가장 많이 사용 (두 가지 방법을 모두 포함하는 Glove)\n",
    "        - CBOW(Continuous Bag of Words) : 어떤 단어를 문맥 안의 주변 단어들을 통해 예측하는 방법\n",
    "                1. 각 주변 단어들을 one-hot vector로 만들어 입력값으로 사용한다.(입력층 벡터)\n",
    "                2. 가중치 행렬(weight matrix)을 각 one-hot vector에 곱해서 n-dimension vector를 만든다(n-차원 은닉층)\n",
    "                3. 만들어진 n-차원 벡터를 모두 더한 후, 개수로 나눠 평균 n-dimension vector를 만든다.(출력층 벡터)\n",
    "                4. n-dimension vector에 다시 weight matrix를 곱해서 one-hot vector와 같은 차원의 벡터로 만든다.\n",
    "                5. 만들어진 벡터를 실제 예측하려고 하는 단어의 one-hot vector와 비교해서 학습한다.\n",
    "                => 입력값으로 쓰이는 단어가 여러 개, 학습을 위해 하나의 단어와만 비교\n",
    "        - Skip-Gram : 어떤 단어를 가지고 특정 문맥안의 주변 단어들을 예측하는 방법\n",
    "                1. 하나의 단어를 one-hot vector로 만들어서 입력값으로 사용한다.(입력층 벡터)\n",
    "                2. 가중치 행렬을 one-hot vector에 곱해서 n-dimension vector를 만든다.(n-차원 은닉층)\n",
    "                3. n-dimension vector에서 다시 가중치 행렬을 곱해서 one-hot vector와 같은 차원의 벡터로 만든다.(출력층 벡터)\n",
    "                4. 만들어진 벡터를 실제 예측하려는 주변 단어들 각각의 one-hot vector와 비교해서 학습한다.\n",
    "                => 입력값은 하나의 단어, 학습을 위해 주변의 여러 단어와 비교한다.\n",
    "                \n",
    "      => 학습 과정을 모두 끝낸 후, 가중치 행렬의 각 행을 단어 벡터로 사용한다.<br><br>\n",
    "      <장점>\n",
    "        - count-base보다 단어 간의 유사도를 잘 측정한다\n",
    "        - 단어들의 복잡한 특징까지도 잘 잡아낸다\n",
    "        - 이렇게 만들어진 벡터는 서로에게 유의미한 관계를 측정할 수 있다.(cosine distance 측정)\n",
    "    - NNLM(Neural Network Language Model)\n",
    "    - RNNLM(Recurrent Neural Network Language Model)"
   ]
  },
  {
   "cell_type": "markdown",
   "metadata": {},
   "source": [
    "![cbow_skipgram](http://solarisailab.com/wp-content/uploads/2017/05/cbow_and_skip-gram_diff.png)"
   ]
  },
  {
   "cell_type": "markdown",
   "metadata": {},
   "source": [
    "## 2. 텍스트 분류(Text Classification)"
   ]
  },
  {
   "cell_type": "markdown",
   "metadata": {},
   "source": [
    ": 범주(Class)중 어느 범주에 속하는지 분류"
   ]
  },
  {
   "cell_type": "markdown",
   "metadata": {},
   "source": [
    "- 2가지 범주 => 이진 분류(Binary Classification)\n",
    "- 3가지 이상 => 다중 범주 분류(Multi class classfication)"
   ]
  },
  {
   "cell_type": "markdown",
   "metadata": {},
   "source": [
    "텍스트 분류의 예시\n",
    "- 스팸 분류\n",
    "- 감정 분류\n",
    "- 뉴스 기사 분류"
   ]
  },
  {
   "cell_type": "markdown",
   "metadata": {},
   "source": [
    "**<지도학습을 통한 텍스트 분류>**  \n",
    ": 글(data)에 대해 각각 속한 class에 대한 값(label)이 이미 주어져 있음 => 주어진 class로 글들을 모두 학습한 후, 학습한 결과를 이용해 새로운 글의 범주를 예측하는 방법\n",
    "- 나이브 베이즈 분류(Naive Bayes Classifier)\n",
    "- 서포트 벡터 머신(Support Vector Machine)\n",
    "- 신경망(Neural Network)\n",
    "- 선형 분류(Linear Classifier)\n",
    "- 로지스틱 분류(Logistic Classifier)\n",
    "- 랜덤 포레스트(Random Forest)"
   ]
  },
  {
   "cell_type": "markdown",
   "metadata": {},
   "source": [
    "**<비지도학습을 통한 텍스트 분류>**  \n",
    ": 데이터만 있고, 각 데이터는 class로 나눠져 있지 않다 => 특성을 찾아내서 적당한 class를 만들어 각 데이터를 나눈다.\n",
    "- K-means Clustering\n",
    "- 계층적 군집화(Hierarchical Clustering)"
   ]
  },
  {
   "cell_type": "markdown",
   "metadata": {},
   "source": [
    "## 3. 텍스트 유사도(Text Similarity)"
   ]
  },
  {
   "cell_type": "markdown",
   "metadata": {},
   "source": [
    "유사도를 판단하는 척도는 매우 주관적이기 때문에 데이터를 구성하기가 쉽지 않고 정량화하는 데 한계가 있다. => 최대한 정량화해서 모델을 만드는 것이 중요  \n",
    "<br>유사도 판단을 위한 정량화 방법\n",
    "- 단순히 같은 단어의 개수를 사용해서 유사도 판단\n",
    "- 형태소로 나누어 형태소를 비교하는 방법\n",
    "- 자소 단위로 나누어 단어를 비교하는 방법 등"
   ]
  },
  {
   "cell_type": "markdown",
   "metadata": {},
   "source": [
    "=> 딥러닝을 기반으로 텍스트의 유사도 측정 : 단어, 형태소, 유사도의 종류에 상관 없이, 텍스트를 벡터화한 후, 벡터화된 각 문장 간의 유사도 측정"
   ]
  },
  {
   "cell_type": "markdown",
   "metadata": {},
   "source": [
    "**<유사도 측정 방법>**\n",
    "- 자카드 유사도\n",
    "- 유클리디언 유사도\n",
    "- 맨하탄 유사도\n",
    "- 코사인 유사도"
   ]
  },
  {
   "cell_type": "code",
   "execution_count": 1,
   "metadata": {},
   "outputs": [
    {
     "name": "stdout",
     "output_type": "stream",
     "text": [
      "{'갑작스런': 1.4054651081081644, '내일': 1.4054651081081644, '놀러왔다가': 1.4054651081081644, '망연자실': 1.4054651081081644, '반가운': 1.4054651081081644, '서쪽': 1.4054651081081644, '소식': 1.4054651081081644, '오늘': 1.4054651081081644, '으로': 1.4054651081081644, '이어졌는데요': 1.4054651081081644, '인해': 1.4054651081081644, '있습니다': 1.4054651081081644, '있습닠다': 1.4054651081081644, '중심': 1.4054651081081644, '폭염': 1.0, '피해서': 1.4054651081081644, '하고': 1.4054651081081644, '휴일': 1.0}\n"
     ]
    }
   ],
   "source": [
    "from sklearn.feature_extraction.text import TfidfVectorizer\n",
    "sent = (\"휴일 인 오늘 도 서쪽 을 중심 으로 폭염 이 이어졌는데요, 내일 은 반가운 비 소식 이 있습니다.\",\n",
    "       \"폭염 을 피해서 휴일 에 놀러왔다가 갑작스런 비 로 인해 망연자실 하고 있습닠다.\")\n",
    "tfidf_vectorizer = TfidfVectorizer()\n",
    "tfidf_matrix = tfidf_vectorizer.fit_transform(sent) #문장 벡터화\n",
    "\n",
    "idf = tfidf_vectorizer.idf_\n",
    "print(dict(zip(tfidf_vectorizer.get_feature_names(), idf))) #각 수치에 대한 값 시각화"
   ]
  },
  {
   "cell_type": "markdown",
   "metadata": {},
   "source": [
    "### <유사도 측정 방법>"
   ]
  },
  {
   "cell_type": "markdown",
   "metadata": {},
   "source": [
    "#### - 자카드 유사도(Jacard Similarity)  \n",
    ": 두 문장을 각각 단어의 집합으로 만든 뒤 두 집합을 통해 유사도를 측정하는 방식 중 하나  \n",
    "유사도 측정 방법 : $J(A,B)=\\frac{|A\\cap B|}{|A \\cup B|}=\\frac{|token\\,in\\,A\\,\\cap\\,token\\,in\\,B|}{|token\\,in\\,A\\,\\cup \\,token\\,in\\,B|}$ (A와 B는 각 문장, token은 각 단어)  \n",
    "0~1 사이의 값 => 1에 가까울 수록, 유사도가 높음"
   ]
  },
  {
   "cell_type": "markdown",
   "metadata": {},
   "source": [
    "#### - 코사인 유사도  \n",
    ": 두 개의 벡터값에서 코사인 각도를 구하는 방법  \n",
    "코사인 유사도 : -1 ~ 1사이의 값, 1에 가까울수록 유사하다는 의미  \n",
    "다른 유사도 접근법에 비해 성능이 좋음 => 두 벡터간의 각도를 구하는 것이므로, 방향성의 개념이 더해진다.  \n",
    "두 문장이 유사하면 같은 방향으로 가리킬 것이고, 유사하지 않으면 직교로 표현될 것  \n",
    "코사인 유사도 공식 : $cos(\\theta)=\\frac{\\vec{a}\\cdot\\vec{b}}{||\\vec{a}||\\cdot||\\vec{b}||}$  \n"
   ]
  },
  {
   "cell_type": "code",
   "execution_count": 3,
   "metadata": {},
   "outputs": [
    {
     "data": {
      "text/plain": [
       "array([[0.11304078]])"
      ]
     },
     "execution_count": 3,
     "metadata": {},
     "output_type": "execute_result"
    }
   ],
   "source": [
    "from sklearn.metrics.pairwise import cosine_similarity\n",
    "\n",
    "cosine_similarity(tfidf_matrix[0:1], tfidf_matrix[1:2]) # 첫 번째와 두 번째 문장 비교\n",
    "# 문장 A와 B의 유사도는 0.113"
   ]
  },
  {
   "cell_type": "markdown",
   "metadata": {},
   "source": [
    "#### - 유클리디언 유사도(Euclidean)  \n",
    ": 가장 기본적인 거리를 측정하는 유사도 공식  \n",
    "Euclidean Distance, L2 Distance : $d(x,y)=\\sqrt{{(x_1-y_1)}^2+{(x_2-y_2)}^2+\\dots+{(x_n+y_n)}^2}$  "
   ]
  },
  {
   "cell_type": "code",
   "execution_count": 5,
   "metadata": {},
   "outputs": [
    {
     "data": {
      "text/plain": [
       "array([[1.33188529]])"
      ]
     },
     "execution_count": 5,
     "metadata": {},
     "output_type": "execute_result"
    }
   ],
   "source": [
    "from sklearn.metrics.pairwise import euclidean_distances\n",
    "\n",
    "euclidean_distances(tfidf_matrix[0:1], tfidf_matrix[1:2])"
   ]
  },
  {
   "cell_type": "markdown",
   "metadata": {},
   "source": [
    "유클리디언 유사도는 단순히 두 점 사이의 거리를 뜻하기 때문에 값에 제한이 없다. => 따라서 값을 제한해야 한다.(0~1 사이의 값을 갖도록)  \n",
    "==> Normalize 후, Euclidean 측정 -> 여기서는 L1-Normalization사용"
   ]
  },
  {
   "cell_type": "code",
   "execution_count": 7,
   "metadata": {},
   "outputs": [
    {
     "data": {
      "text/plain": [
       "array([[0.21243357]])"
      ]
     },
     "execution_count": 7,
     "metadata": {},
     "output_type": "execute_result"
    }
   ],
   "source": [
    "import numpy as np\n",
    "\n",
    "def l1_normalize(v):\n",
    "    norm = np.sum(v)\n",
    "    return v/norm\n",
    "\n",
    "tfidf_norm_l1 = l1_normalize(tfidf_matrix)\n",
    "euclidean_distances(tfidf_norm_l1[0:1], tfidf_norm_l1[1:2])"
   ]
  },
  {
   "cell_type": "markdown",
   "metadata": {},
   "source": [
    "#### - 맨하탄 유사도(Manhattan Similarity)  \n",
    "Manhattan Distance : 사각형 격자로 이뤄진 지도에서 출발점에서 도착점까지를 가로지르지 않고 갈 수 있는 최단거리를 구하는 공식  \n",
    "$MaDistance = \\sum_{i=1}^{n}|a_i-b_i|$\n",
    "![image](https://upload.wikimedia.org/wikipedia/commons/thumb/0/08/Manhattan_distance.svg/400px-Manhattan_distance.svg.png)  \n",
    "L2 Norm, Euclidean Distance => 초록색 선  \n",
    "L1 Norm, Manhattan Distance => 빨강, 노랑, 파랑색 선  \n",
    "유클리디언과 같이 값이 매우 커질 수 있으므로, L1 정규화를 사용한다."
   ]
  },
  {
   "cell_type": "code",
   "execution_count": 8,
   "metadata": {},
   "outputs": [
    {
     "data": {
      "text/plain": [
       "array([[0.85654185]])"
      ]
     },
     "execution_count": 8,
     "metadata": {},
     "output_type": "execute_result"
    }
   ],
   "source": [
    "from sklearn.metrics.pairwise import manhattan_distances\n",
    "\n",
    "manhattan_distances(tfidf_norm_l1[0:1], tfidf_norm_l1[1:2])"
   ]
  },
  {
   "cell_type": "markdown",
   "metadata": {},
   "source": [
    "## 4. 자연어 생성"
   ]
  },
  {
   "cell_type": "markdown",
   "metadata": {},
   "source": [
    "## 5. 기계 이해(Machine Comprehension)"
   ]
  },
  {
   "cell_type": "markdown",
   "metadata": {},
   "source": [
    ": 기계가 어떤 텍스트에 대한 정보를 학습하고 사용자가 질의를 던졌을 때 그에 대해 응답하는 문제, 기계가 텍스트를 이해하고 논리적 추론을 할 수 있는지 데이터 학습을 통해 보는 것  \n",
    "- 데이터셋\n",
    "- bAbI\n",
    "- SQuAD(Stanford Question Answering Dataset)\n",
    "    - EM(Exact Matching) : 정답 위치와 완벽하게 일치하는지\n",
    "    - F1 Score : 정답 위치와 겹치는지\n",
    "- Visual Question Answering(VQA) : 이미지에 대한 정보와 텍스트 질의를 통해 이미지 컨텍스트에 해당하는 응답을 알려줌"
   ]
  },
  {
   "cell_type": "markdown",
   "metadata": {},
   "source": [
    "## 6. 데이터 이해하기"
   ]
  },
  {
   "cell_type": "markdown",
   "metadata": {},
   "source": [
    "탐색적 데이터 분석(EDA; Exploratory Data Analysis) 과정\n",
    "- 생각하지 못한 데이터의 여러 패턴이나 잠재적인 문제점 등을 발견할 수 있다.  \n",
    "- 데이터를 먼저 이해해야함\n",
    "- 데이터에 대한 최대한 많은 정보를 뽑아내야 한다. : 평균값, 중앙값, 최솟값, 최댓값, 범위, 분포, 이상치(Outlier)\n",
    "- 분석가의 선입견을 철저히 배제해야한다."
   ]
  },
  {
   "cell_type": "code",
   "execution_count": 9,
   "metadata": {},
   "outputs": [
    {
     "name": "stdout",
     "output_type": "stream",
     "text": [
      "Downloading data from http://ai.stanford.edu/~amaas/data/sentiment/aclImdb_v1.tar.gz\n",
      "84131840/84125825 [==============================] - 18s 0us/step\n"
     ]
    }
   ],
   "source": [
    "#간단한 실습\n",
    "\n",
    "# 데이터 이름 : aclImdb_v1\n",
    "# 데이터 용도 : 탐색적 데이터 분석에 대해 알아보기 위한 목적\n",
    "# 데이터 권한 : MIT\n",
    "# 데이터 출처 : http://ai.stanford.edu/~amaas/data/sentiment\n",
    "\n",
    "\n",
    "import os\n",
    "import re\n",
    "\n",
    "import pandas as pd\n",
    "import tensorflow as tf\n",
    "from tensorflow.keras import utils\n",
    "\n",
    "# keras module의 get_file함수를 통해 IMDB 데이터를 가져온다.\n",
    "data_set = tf.keras.utils.get_file(\n",
    "        fname=\"imdb.tar.gz\",\n",
    "        origin=\"http://ai.stanford.edu/~amaas/data/sentiment/aclImdb_v1.tar.gz\",\n",
    "        extract=True)"
   ]
  },
  {
   "cell_type": "code",
   "execution_count": 10,
   "metadata": {},
   "outputs": [],
   "source": [
    "def directory_data(directory):\n",
    "    data = {}\n",
    "    data[\"review\"] = []\n",
    "    for file_path in os.listdir(directory):\n",
    "        with open(os.path.join(directory, file_path), \"r\") as file:\n",
    "            data[\"review\"].append(file.read())\n",
    "    return pd.DataFrame.from_dict(data)"
   ]
  },
  {
   "cell_type": "code",
   "execution_count": 11,
   "metadata": {},
   "outputs": [],
   "source": [
    "def data(directory):\n",
    "    pos_df = directory_data(os.path.join(directory, \"pos\"))\n",
    "    neg_df = directory_data(os.path.join(directory, \"neg\"))\n",
    "    pos_df[\"sentiment\"] = 1\n",
    "    neg_df[\"sentiment\"] = 0\n",
    "    return pd.concat([pos_df, neg_df])"
   ]
  },
  {
   "cell_type": "code",
   "execution_count": 12,
   "metadata": {},
   "outputs": [],
   "source": [
    "train_df = data(os.path.join(os.path.dirname(data_set), \"aclImdb\", \"train\"))\n",
    "test_df = data(os.path.join(os.path.dirname(data_set), \"aclImdb\", \"test\"))"
   ]
  },
  {
   "cell_type": "code",
   "execution_count": 13,
   "metadata": {},
   "outputs": [
    {
     "data": {
      "text/html": [
       "<div>\n",
       "<style scoped>\n",
       "    .dataframe tbody tr th:only-of-type {\n",
       "        vertical-align: middle;\n",
       "    }\n",
       "\n",
       "    .dataframe tbody tr th {\n",
       "        vertical-align: top;\n",
       "    }\n",
       "\n",
       "    .dataframe thead th {\n",
       "        text-align: right;\n",
       "    }\n",
       "</style>\n",
       "<table border=\"1\" class=\"dataframe\">\n",
       "  <thead>\n",
       "    <tr style=\"text-align: right;\">\n",
       "      <th></th>\n",
       "      <th>review</th>\n",
       "      <th>sentiment</th>\n",
       "    </tr>\n",
       "  </thead>\n",
       "  <tbody>\n",
       "    <tr>\n",
       "      <th>0</th>\n",
       "      <td>For a movie that gets no respect there sure ar...</td>\n",
       "      <td>1</td>\n",
       "    </tr>\n",
       "    <tr>\n",
       "      <th>1</th>\n",
       "      <td>Bizarre horror movie filled with famous faces ...</td>\n",
       "      <td>1</td>\n",
       "    </tr>\n",
       "    <tr>\n",
       "      <th>2</th>\n",
       "      <td>A solid, if unremarkable film. Matthau, as Ein...</td>\n",
       "      <td>1</td>\n",
       "    </tr>\n",
       "    <tr>\n",
       "      <th>3</th>\n",
       "      <td>It's a strange feeling to sit alone in a theat...</td>\n",
       "      <td>1</td>\n",
       "    </tr>\n",
       "    <tr>\n",
       "      <th>4</th>\n",
       "      <td>You probably all already know this by now, but...</td>\n",
       "      <td>1</td>\n",
       "    </tr>\n",
       "  </tbody>\n",
       "</table>\n",
       "</div>"
      ],
      "text/plain": [
       "                                              review  sentiment\n",
       "0  For a movie that gets no respect there sure ar...          1\n",
       "1  Bizarre horror movie filled with famous faces ...          1\n",
       "2  A solid, if unremarkable film. Matthau, as Ein...          1\n",
       "3  It's a strange feeling to sit alone in a theat...          1\n",
       "4  You probably all already know this by now, but...          1"
      ]
     },
     "execution_count": 13,
     "metadata": {},
     "output_type": "execute_result"
    }
   ],
   "source": [
    "train_df.head()"
   ]
  },
  {
   "cell_type": "code",
   "execution_count": 15,
   "metadata": {},
   "outputs": [],
   "source": [
    "reviews = list(train_df['review'])"
   ]
  },
  {
   "cell_type": "code",
   "execution_count": 16,
   "metadata": {},
   "outputs": [],
   "source": [
    "#문자열 문장 리스트를 토크나이징\n",
    "tokenized_reviews = [r.split() for r in reviews]\n",
    "\n",
    "#토크나이징된 리스트에 대한 각 길이를 저장\n",
    "review_len_by_token = [len(t) for t in tokenized_reviews]\n",
    "\n",
    "#토크나이징된 것을 붙여서 음절의 길이를 저장\n",
    "review_len_by_eumjeol = [len(s.replace(' ', '')) for s in reviews]"
   ]
  },
  {
   "cell_type": "code",
   "execution_count": 18,
   "metadata": {},
   "outputs": [
    {
     "data": {
      "text/plain": [
       "Text(0, 0.5, 'Number of Reviews')"
      ]
     },
     "execution_count": 18,
     "metadata": {},
     "output_type": "execute_result"
    },
    {
     "data": {
      "image/png": "[encoded data removed]",
      "text/plain": [
       "<Figure size 864x360 with 1 Axes>"
      ]
     },
     "metadata": {
      "needs_background": "light"
     },
     "output_type": "display_data"
    }
   ],
   "source": [
    "import matplotlib.pyplot as plt\n",
    "\n",
    "plt.figure(figsize=(12,5))\n",
    "\n",
    "\"\"\"\n",
    "Histogram\n",
    "bins : 히스토그램 값에 대한 버킷 범위\n",
    "alpha : 그래프 색상 투명도\n",
    "color : 그래프 색상\n",
    "label : 그래프에 대한 라벨\n",
    "\"\"\"\n",
    "\n",
    "plt.hist(review_len_by_token, bins=50, alpha=0.5, color='r', label='word') #단어개수\n",
    "plt.hist(review_len_by_eumjeol, bins=50, alpha=0.5, color='b', label='alphabet') #알파벳 개수\n",
    "plt.yscale('log', nonposy='clip')\n",
    "plt.title('Review Length Histogram')\n",
    "plt.xlabel('Review Length')\n",
    "plt.ylabel('Number of Reviews')"
   ]
  },
  {
   "cell_type": "code",
   "execution_count": 20,
   "metadata": {},
   "outputs": [
    {
     "name": "stdout",
     "output_type": "stream",
     "text": [
      "문장 최대 길이 : 2470\n",
      "문장 최소 길이 : 10\n",
      "문장 평균 길이 : 233.79\n",
      "문장 길이 표준편차 : 173.73\n",
      "제1사분위 길이 : 127.0\n",
      "제3사분위 길이 : 284.0\n"
     ]
    }
   ],
   "source": [
    "import numpy as np\n",
    "\n",
    "print('문장 최대 길이 : {}'.format(np.max(review_len_by_token)))\n",
    "print('문장 최소 길이 : {}'.format(np.min(review_len_by_token)))\n",
    "print('문장 평균 길이 : {:.2f}'.format(np.mean(review_len_by_token)))\n",
    "print('문장 길이 표준편차 : {:.2f}'.format(np.std(review_len_by_token)))\n",
    "\n",
    "print('제1사분위 길이 : {}'.format(np.percentile(review_len_by_token, 25)))\n",
    "print('제3사분위 길이 : {}'.format(np.percentile(review_len_by_token, 75)))"
   ]
  },
  {
   "cell_type": "code",
   "execution_count": 21,
   "metadata": {},
   "outputs": [
    {
     "data": {
      "text/plain": [
       "{'whiskers': [<matplotlib.lines.Line2D at 0x14adc1710>,\n",
       "  <matplotlib.lines.Line2D at 0x14adc1a58>],\n",
       " 'caps': [<matplotlib.lines.Line2D at 0x14adc1da0>,\n",
       "  <matplotlib.lines.Line2D at 0x14add0128>],\n",
       " 'boxes': [<matplotlib.lines.Line2D at 0x14adc1400>],\n",
       " 'medians': [<matplotlib.lines.Line2D at 0x14add0470>],\n",
       " 'fliers': [<matplotlib.lines.Line2D at 0x14add0ac8>],\n",
       " 'means': [<matplotlib.lines.Line2D at 0x14add07b8>]}"
      ]
     },
     "execution_count": 21,
     "metadata": {},
     "output_type": "execute_result"
    },
    {
     "data": {
      "image/png": "[encoded data removed]",
      "text/plain": [
       "<Figure size 864x360 with 1 Axes>"
      ]
     },
     "metadata": {
      "needs_background": "light"
     },
     "output_type": "display_data"
    }
   ],
   "source": [
    "# 단어 수\n",
    "plt.figure(figsize=(12,5))\n",
    "plt.boxplot([review_len_by_token], labels=['token'], showmeans=True)"
   ]
  },
  {
   "cell_type": "code",
   "execution_count": 22,
   "metadata": {},
   "outputs": [
    {
     "data": {
      "text/plain": [
       "{'whiskers': [<matplotlib.lines.Line2D at 0x14af4ce10>,\n",
       "  <matplotlib.lines.Line2D at 0x14b03d1d0>],\n",
       " 'caps': [<matplotlib.lines.Line2D at 0x14b03d4e0>,\n",
       "  <matplotlib.lines.Line2D at 0x14b03d828>],\n",
       " 'boxes': [<matplotlib.lines.Line2D at 0x14af4cac8>],\n",
       " 'medians': [<matplotlib.lines.Line2D at 0x14b03db70>],\n",
       " 'fliers': [<matplotlib.lines.Line2D at 0x14b0471d0>],\n",
       " 'means': [<matplotlib.lines.Line2D at 0x14b03deb8>]}"
      ]
     },
     "execution_count": 22,
     "metadata": {},
     "output_type": "execute_result"
    },
    {
     "data": {
      "image/png": "[encoded data removed]",
      "text/plain": [
       "<Figure size 864x360 with 1 Axes>"
      ]
     },
     "metadata": {
      "needs_background": "light"
     },
     "output_type": "display_data"
    }
   ],
   "source": [
    "# 알파벳 개수\n",
    "plt.figure(figsize=(12,5))\n",
    "plt.boxplot([review_len_by_eumjeol], labels=['Eumjeol'], showmeans=True)"
   ]
  },
  {
   "cell_type": "code",
   "execution_count": 24,
   "metadata": {},
   "outputs": [
    {
     "data": {
      "image/png": "[encoded data removed]",
      "text/plain": [
       "<Figure size 360x720 with 1 Axes>"
      ]
     },
     "metadata": {
      "needs_background": "light"
     },
     "output_type": "display_data"
    }
   ],
   "source": [
    "from wordcloud import WordCloud, STOPWORDS\n",
    "import matplotlib.pyplot as plt\n",
    "#matplotlib inline\n",
    "\n",
    "wordcloud = WordCloud(stopwords = STOPWORDS, background_color = 'black', width=800, height=600).generate(' '.join(train_df['review']))\n",
    "\n",
    "plt.figure(figsize=(5,10))\n",
    "plt.imshow(wordcloud)\n",
    "plt.axis(\"off\")\n",
    "plt.show()"
   ]
  },
  {
   "cell_type": "code",
   "execution_count": 25,
   "metadata": {},
   "outputs": [
    {
     "data": {
      "text/plain": [
       "<matplotlib.axes._subplots.AxesSubplot at 0x14a8285f8>"
      ]
     },
     "execution_count": 25,
     "metadata": {},
     "output_type": "execute_result"
    },
    {
     "data": {
      "image/png": "[encoded data removed]",
      "text/plain": [
       "<Figure size 432x216 with 1 Axes>"
      ]
     },
     "metadata": {
      "needs_background": "light"
     },
     "output_type": "display_data"
    }
   ],
   "source": [
    "import seaborn as sns\n",
    "import matplotlib.pyplot as plt\n",
    "\n",
    "sentiment = train_df['sentiment'].value_counts()\n",
    "fig, axe = plt.subplots(ncols=1)\n",
    "fig.set_size_inches(6,3)\n",
    "sns.countplot(train_df['sentiment'])"
   ]
  },
  {
   "cell_type": "code",
   "execution_count": null,
   "metadata": {},
   "outputs": [],
   "source": []
  }
 ],
 "metadata": {
  "kernelspec": {
   "display_name": "Python 3",
   "language": "python",
   "name": "python3"
  },
  "language_info": {
   "codemirror_mode": {
    "name": "ipython",
    "version": 3
   },
   "file_extension": ".py",
   "mimetype": "text/x-python",
   "name": "python",
   "nbconvert_exporter": "python",
   "pygments_lexer": "ipython3",
   "version": "3.6.9"
  }
 },
 "nbformat": 4,
 "nbformat_minor": 2
}
